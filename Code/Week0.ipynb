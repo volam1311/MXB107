{
 "cells": [
  {
   "cell_type": "markdown",
   "id": "c1c5d858",
   "metadata": {},
   "source": [
    "# First introduction to R"
   ]
  },
  {
   "cell_type": "code",
   "execution_count": 1,
   "id": "e31e1a52",
   "metadata": {
    "vscode": {
     "languageId": "r"
    }
   },
   "outputs": [
    {
     "name": "stdout",
     "output_type": "stream",
     "text": [
      "\n",
      " ________________________ \n",
      "< My name is Phuc Lam Vo >\n",
      " ------------------------ \n",
      "     \\\n",
      "      \\\n",
      "\n",
      "       _//| .-~~~-.\n",
      "     _/oo  }       }-@\n",
      "    ('')_  }       |\n",
      "     `--'| { }--{  }\n",
      "          //_/  /_/ [nosig]"
     ]
    }
   ],
   "source": [
    "library(\"cowsay\")\n",
    "say(\"My name is Phuc Lam Vo\", by = \"pig\")"
   ]
  },
  {
   "cell_type": "code",
   "execution_count": 2,
   "id": "816ba34c",
   "metadata": {
    "vscode": {
     "languageId": "r"
    }
   },
   "outputs": [
    {
     "name": "stdout",
     "output_type": "stream",
     "text": [
      "\n",
      " _________________________ \n",
      "< My very first code cell >\n",
      " ------------------------- \n",
      "         \\\n",
      "          \\\n",
      "\n",
      "            |\\___/|\n",
      "          ==) ^Y^ (==\n",
      "            \\  ^  /\n",
      "             )=*=(\n",
      "            /     \\\n",
      "            |     |\n",
      "           /| | | |\\\n",
      "           \\| | |_|/\\\n",
      "      jgs  //_// ___/\n",
      "               \\_)"
     ]
    }
   ],
   "source": [
    "say(\"My very first code cell\", by = \"cat\")"
   ]
  },
  {
   "cell_type": "markdown",
   "id": "57b0da3e",
   "metadata": {},
   "source": [
    "# Data types in R"
   ]
  },
  {
   "cell_type": "code",
   "execution_count": 3,
   "id": "eecdfa95",
   "metadata": {
    "vscode": {
     "languageId": "r"
    }
   },
   "outputs": [
    {
     "data": {
      "text/html": [
       "'double'"
      ],
      "text/latex": [
       "'double'"
      ],
      "text/markdown": [
       "'double'"
      ],
      "text/plain": [
       "[1] \"double\""
      ]
     },
     "metadata": {},
     "output_type": "display_data"
    }
   ],
   "source": [
    "typeof(0.1)"
   ]
  },
  {
   "cell_type": "markdown",
   "id": "50a7623a",
   "metadata": {},
   "source": [
    "This may sound weird but the fact is that computer has only finite memory, so there might be some \"generally acceptable\" representation error. However, they can propagate and affect the accuracy of your results if not handled correctly (beyond the scope of this unit)."
   ]
  },
  {
   "cell_type": "code",
   "execution_count": 4,
   "id": "b3c66738",
   "metadata": {
    "vscode": {
     "languageId": "r"
    }
   },
   "outputs": [
    {
     "data": {
      "text/html": [
       "FALSE"
      ],
      "text/latex": [
       "FALSE"
      ],
      "text/markdown": [
       "FALSE"
      ],
      "text/plain": [
       "[1] FALSE"
      ]
     },
     "metadata": {},
     "output_type": "display_data"
    }
   ],
   "source": [
    "0.1 + 0.2 == 0.3"
   ]
  },
  {
   "cell_type": "code",
   "execution_count": 5,
   "id": "4cc1f615",
   "metadata": {
    "vscode": {
     "languageId": "r"
    }
   },
   "outputs": [
    {
     "data": {
      "text/plain": [
       "[1] 34 33 33 33 33 33 d3 3f"
      ]
     },
     "metadata": {},
     "output_type": "display_data"
    },
    {
     "data": {
      "text/plain": [
       "[1] 33 33 33 33 33 33 d3 3f"
      ]
     },
     "metadata": {},
     "output_type": "display_data"
    }
   ],
   "source": [
    "writeBin(0.1 + 0.2, raw(), size = 8)  # 8 bytes = 64 bits\n",
    "writeBin(0.3, raw(), size = 8)"
   ]
  },
  {
   "cell_type": "markdown",
   "id": "12af57b0",
   "metadata": {},
   "source": [
    "We can use $all.equal()$ function in R for safer comparison"
   ]
  },
  {
   "cell_type": "code",
   "execution_count": 6,
   "id": "aeb6c840",
   "metadata": {
    "vscode": {
     "languageId": "r"
    }
   },
   "outputs": [
    {
     "data": {
      "text/html": [
       "TRUE"
      ],
      "text/latex": [
       "TRUE"
      ],
      "text/markdown": [
       "TRUE"
      ],
      "text/plain": [
       "[1] TRUE"
      ]
     },
     "metadata": {},
     "output_type": "display_data"
    }
   ],
   "source": [
    "all.equal(0.1 + 0.2, 0.3)"
   ]
  },
  {
   "cell_type": "markdown",
   "id": "d3fc67b3",
   "metadata": {},
   "source": [
    "### In R, integers represent whole numbers without decimal points. We can create them using the L suffix, like 5L, and check their type with typeof(5L)"
   ]
  },
  {
   "cell_type": "code",
   "execution_count": 9,
   "id": "fa98ee59",
   "metadata": {
    "vscode": {
     "languageId": "r"
    }
   },
   "outputs": [
    {
     "data": {
      "text/html": [
       "5"
      ],
      "text/latex": [
       "5"
      ],
      "text/markdown": [
       "5"
      ],
      "text/plain": [
       "[1] 5"
      ]
     },
     "metadata": {},
     "output_type": "display_data"
    },
    {
     "data": {
      "text/html": [
       "'integer'"
      ],
      "text/latex": [
       "'integer'"
      ],
      "text/markdown": [
       "'integer'"
      ],
      "text/plain": [
       "[1] \"integer\""
      ]
     },
     "metadata": {},
     "output_type": "display_data"
    },
    {
     "data": {
      "text/html": [
       "'double'"
      ],
      "text/latex": [
       "'double'"
      ],
      "text/markdown": [
       "'double'"
      ],
      "text/plain": [
       "[1] \"double\""
      ]
     },
     "metadata": {},
     "output_type": "display_data"
    }
   ],
   "source": [
    "5L\n",
    "typeof(5L) # Checking the type of the data\n",
    "typeof(5)"
   ]
  },
  {
   "cell_type": "code",
   "execution_count": 10,
   "id": "7460203a",
   "metadata": {
    "vscode": {
     "languageId": "r"
    }
   },
   "outputs": [
    {
     "data": {
      "text/html": [
       "TRUE"
      ],
      "text/latex": [
       "TRUE"
      ],
      "text/markdown": [
       "TRUE"
      ],
      "text/plain": [
       "[1] TRUE"
      ]
     },
     "metadata": {},
     "output_type": "display_data"
    },
    {
     "data": {
      "text/html": [
       "FALSE"
      ],
      "text/latex": [
       "FALSE"
      ],
      "text/markdown": [
       "FALSE"
      ],
      "text/plain": [
       "[1] FALSE"
      ]
     },
     "metadata": {},
     "output_type": "display_data"
    }
   ],
   "source": [
    "# We can check if the data type is the integer or not\n",
    "is.numeric(1)\n",
    "is.numeric('a')"
   ]
  },
  {
   "cell_type": "markdown",
   "id": "aebd466d",
   "metadata": {},
   "source": [
    "You can use R as a calculator with various arithmetic operations like: /,%,*,etc"
   ]
  },
  {
   "cell_type": "code",
   "execution_count": 11,
   "id": "374c7f09",
   "metadata": {
    "vscode": {
     "languageId": "r"
    }
   },
   "outputs": [
    {
     "data": {
      "text/html": [
       "12.5"
      ],
      "text/latex": [
       "12.5"
      ],
      "text/markdown": [
       "12.5"
      ],
      "text/plain": [
       "[1] 12.5"
      ]
     },
     "metadata": {},
     "output_type": "display_data"
    },
    {
     "data": {
      "text/html": [
       "'double'"
      ],
      "text/latex": [
       "'double'"
      ],
      "text/markdown": [
       "'double'"
      ],
      "text/plain": [
       "[1] \"double\""
      ]
     },
     "metadata": {},
     "output_type": "display_data"
    },
    {
     "data": {
      "text/html": [
       "70"
      ],
      "text/latex": [
       "70"
      ],
      "text/markdown": [
       "70"
      ],
      "text/plain": [
       "[1] 70"
      ]
     },
     "metadata": {},
     "output_type": "display_data"
    },
    {
     "data": {
      "text/html": [
       "'double'"
      ],
      "text/latex": [
       "'double'"
      ],
      "text/markdown": [
       "'double'"
      ],
      "text/plain": [
       "[1] \"double\""
      ]
     },
     "metadata": {},
     "output_type": "display_data"
    }
   ],
   "source": [
    "# Exercise:\n",
    "50/4\n",
    "typeof(50/4)\n",
    "14*(4+6)/2\n",
    "typeof(14*(4+6)/2)"
   ]
  },
  {
   "cell_type": "code",
   "execution_count": 12,
   "id": "3cc17630",
   "metadata": {
    "vscode": {
     "languageId": "r"
    }
   },
   "outputs": [
    {
     "data": {
      "text/html": [
       "2"
      ],
      "text/latex": [
       "2"
      ],
      "text/markdown": [
       "2"
      ],
      "text/plain": [
       "[1] 2"
      ]
     },
     "metadata": {},
     "output_type": "display_data"
    },
    {
     "data": {
      "text/html": [
       "'integer'"
      ],
      "text/latex": [
       "'integer'"
      ],
      "text/markdown": [
       "'integer'"
      ],
      "text/plain": [
       "[1] \"integer\""
      ]
     },
     "metadata": {},
     "output_type": "display_data"
    },
    {
     "data": {
      "text/html": [
       "'double'"
      ],
      "text/latex": [
       "'double'"
      ],
      "text/markdown": [
       "'double'"
      ],
      "text/plain": [
       "[1] \"double\""
      ]
     },
     "metadata": {},
     "output_type": "display_data"
    }
   ],
   "source": [
    "1L+1L\n",
    "typeof(1L+1L)\n",
    "typeof(1+1)"
   ]
  },
  {
   "cell_type": "code",
   "execution_count": 13,
   "id": "fd4a8843",
   "metadata": {
    "vscode": {
     "languageId": "r"
    }
   },
   "outputs": [
    {
     "data": {
      "text/html": [
       "1.66666666666667"
      ],
      "text/latex": [
       "1.66666666666667"
      ],
      "text/markdown": [
       "1.66666666666667"
      ],
      "text/plain": [
       "[1] 1.666667"
      ]
     },
     "metadata": {},
     "output_type": "display_data"
    },
    {
     "data": {
      "text/html": [
       "'double'"
      ],
      "text/latex": [
       "'double'"
      ],
      "text/markdown": [
       "'double'"
      ],
      "text/plain": [
       "[1] \"double\""
      ]
     },
     "metadata": {},
     "output_type": "display_data"
    },
    {
     "data": {
      "text/html": [
       "1.66666666666667"
      ],
      "text/latex": [
       "1.66666666666667"
      ],
      "text/markdown": [
       "1.66666666666667"
      ],
      "text/plain": [
       "[1] 1.666667"
      ]
     },
     "metadata": {},
     "output_type": "display_data"
    },
    {
     "data": {
      "text/html": [
       "'double'"
      ],
      "text/latex": [
       "'double'"
      ],
      "text/markdown": [
       "'double'"
      ],
      "text/plain": [
       "[1] \"double\""
      ]
     },
     "metadata": {},
     "output_type": "display_data"
    }
   ],
   "source": [
    "5L/3L\n",
    "typeof(5L/3L)\n",
    "\n",
    "5/3\n",
    "typeof(5/3)"
   ]
  },
  {
   "cell_type": "code",
   "execution_count": 14,
   "id": "45e11463",
   "metadata": {
    "vscode": {
     "languageId": "r"
    }
   },
   "outputs": [
    {
     "data": {
      "text/html": [
       "FALSE"
      ],
      "text/latex": [
       "FALSE"
      ],
      "text/markdown": [
       "FALSE"
      ],
      "text/plain": [
       "[1] FALSE"
      ]
     },
     "metadata": {},
     "output_type": "display_data"
    },
    {
     "data": {
      "text/html": [
       "TRUE"
      ],
      "text/latex": [
       "TRUE"
      ],
      "text/markdown": [
       "TRUE"
      ],
      "text/plain": [
       "[1] TRUE"
      ]
     },
     "metadata": {},
     "output_type": "display_data"
    }
   ],
   "source": [
    "T & F\n",
    "!(T&F)"
   ]
  },
  {
   "cell_type": "code",
   "execution_count": 16,
   "id": "a57967f2",
   "metadata": {
    "vscode": {
     "languageId": "r"
    }
   },
   "outputs": [
    {
     "data": {
      "text/html": [
       "FALSE"
      ],
      "text/latex": [
       "FALSE"
      ],
      "text/markdown": [
       "FALSE"
      ],
      "text/plain": [
       "[1] FALSE"
      ]
     },
     "metadata": {},
     "output_type": "display_data"
    }
   ],
   "source": [
    "# Exercise:\n",
    "(3^2 < 2^3) & (log(3) > 1.5)"
   ]
  },
  {
   "cell_type": "code",
   "execution_count": 1,
   "id": "becf2a45",
   "metadata": {
    "vscode": {
     "languageId": "r"
    }
   },
   "outputs": [
    {
     "name": "stdout",
     "output_type": "stream",
     "text": [
      "[1] 18.84956\n"
     ]
    }
   ],
   "source": [
    "# Exercise:\n",
    "radius <- 3\n",
    "area <- 2* pi * radius\n",
    "print(area)"
   ]
  },
  {
   "cell_type": "markdown",
   "id": "948995fa",
   "metadata": {},
   "source": [
    "### Function"
   ]
  },
  {
   "cell_type": "code",
   "execution_count": 17,
   "id": "fadacb18",
   "metadata": {
    "vscode": {
     "languageId": "r"
    }
   },
   "outputs": [
    {
     "data": {
      "text/html": [
       "28.2743338823081"
      ],
      "text/latex": [
       "28.2743338823081"
      ],
      "text/markdown": [
       "28.2743338823081"
      ],
      "text/plain": [
       "[1] 28.27433"
      ]
     },
     "metadata": {},
     "output_type": "display_data"
    }
   ],
   "source": [
    "computeArea = function(radius){\n",
    "  area = pi*radius^2\n",
    "  return(area)\n",
    "}\n",
    "computeArea(3)"
   ]
  },
  {
   "cell_type": "code",
   "execution_count": 18,
   "id": "9ecb24ff",
   "metadata": {
    "vscode": {
     "languageId": "r"
    }
   },
   "outputs": [
    {
     "data": {
      "text/html": [
       "12.5663706143592"
      ],
      "text/latex": [
       "12.5663706143592"
      ],
      "text/markdown": [
       "12.5663706143592"
      ],
      "text/plain": [
       "[1] 12.56637"
      ]
     },
     "metadata": {},
     "output_type": "display_data"
    }
   ],
   "source": [
    "computeCirc = function(radius)\n",
    "{\n",
    "    diameter = 2*pi*radius\n",
    "    return(diameter)\n",
    "}\n",
    "computeCirc(2)"
   ]
  },
  {
   "cell_type": "markdown",
   "id": "ba7b43a1",
   "metadata": {},
   "source": [
    "### Vector"
   ]
  },
  {
   "cell_type": "code",
   "execution_count": 19,
   "id": "e3f81c7f",
   "metadata": {
    "vscode": {
     "languageId": "r"
    }
   },
   "outputs": [
    {
     "data": {
      "text/html": [
       "'double'"
      ],
      "text/latex": [
       "'double'"
      ],
      "text/markdown": [
       "'double'"
      ],
      "text/plain": [
       "[1] \"double\""
      ]
     },
     "metadata": {},
     "output_type": "display_data"
    },
    {
     "data": {
      "text/html": [
       "TRUE"
      ],
      "text/latex": [
       "TRUE"
      ],
      "text/markdown": [
       "TRUE"
      ],
      "text/plain": [
       "[1] TRUE"
      ]
     },
     "metadata": {},
     "output_type": "display_data"
    }
   ],
   "source": [
    "x <- c(1,2,3)\n",
    "typeof(x)\n",
    "is.vector(x)"
   ]
  },
  {
   "cell_type": "code",
   "execution_count": 2,
   "id": "1e37b333",
   "metadata": {
    "vscode": {
     "languageId": "r"
    }
   },
   "outputs": [
    {
     "name": "stdout",
     "output_type": "stream",
     "text": [
      "[1] 1 2 3 4 5 6\n"
     ]
    },
    {
     "data": {
      "text/html": [
       "TRUE"
      ],
      "text/latex": [
       "TRUE"
      ],
      "text/markdown": [
       "TRUE"
      ],
      "text/plain": [
       "[1] TRUE"
      ]
     },
     "metadata": {},
     "output_type": "display_data"
    }
   ],
   "source": [
    "a = c(1,2,3)\n",
    "b = c(4,5,6)\n",
    "print(c(a,b)) # you can concatenate two vectors and create a new vector\n",
    "is.vector(c(a,b))"
   ]
  },
  {
   "cell_type": "code",
   "execution_count": 3,
   "id": "dd55f26a",
   "metadata": {
    "vscode": {
     "languageId": "r"
    }
   },
   "outputs": [
    {
     "name": "stdout",
     "output_type": "stream",
     "text": [
      " [1]  1  4  3  6  3 24  7  2  3  4\n"
     ]
    },
    {
     "name": "stdout",
     "output_type": "stream",
     "text": [
      "[1] 1 3 3\n"
     ]
    }
   ],
   "source": [
    "x = c(1,4,3,6,3,24,7,2,3,4)\n",
    "print(x)\n",
    "print(x[c(1,3,5)]) # this will return the 1st, 3rd, 5th element in the vector x"
   ]
  },
  {
   "cell_type": "code",
   "execution_count": null,
   "id": "dc4f3a8c",
   "metadata": {
    "vscode": {
     "languageId": "r"
    }
   },
   "outputs": [
    {
     "name": "stdout",
     "output_type": "stream",
     "text": [
      " [1] FALSE  TRUE FALSE  TRUE FALSE  TRUE  TRUE FALSE FALSE  TRUE\n"
     ]
    },
    {
     "data": {
      "text/html": [
       "<style>\n",
       ".list-inline {list-style: none; margin:0; padding: 0}\n",
       ".list-inline>li {display: inline-block}\n",
       ".list-inline>li:not(:last-child)::after {content: \"\\00b7\"; padding: 0 .5ex}\n",
       "</style>\n",
       "<ol class=list-inline><li>4</li><li>6</li><li>24</li><li>7</li><li>4</li></ol>\n"
      ],
      "text/latex": [
       "\\begin{enumerate*}\n",
       "\\item 4\n",
       "\\item 6\n",
       "\\item 24\n",
       "\\item 7\n",
       "\\item 4\n",
       "\\end{enumerate*}\n"
      ],
      "text/markdown": [
       "1. 4\n",
       "2. 6\n",
       "3. 24\n",
       "4. 7\n",
       "5. 4\n",
       "\n",
       "\n"
      ],
      "text/plain": [
       "[1]  4  6 24  7  4"
      ]
     },
     "metadata": {},
     "output_type": "display_data"
    }
   ],
   "source": [
    "x = c(1,4,3,6,3,24,7,2,3,4)\n",
    "whichIdx = x>3 # this will return the boolean value for each element in the vector.\n",
    "print(whichIdx)\n",
    "x[whichIdx]"
   ]
  },
  {
   "cell_type": "code",
   "execution_count": 4,
   "id": "163c1ef6",
   "metadata": {
    "vscode": {
     "languageId": "r"
    }
   },
   "outputs": [
    {
     "data": {
      "text/html": [
       "<style>\n",
       ".list-inline {list-style: none; margin:0; padding: 0}\n",
       ".list-inline>li {display: inline-block}\n",
       ".list-inline>li:not(:last-child)::after {content: \"\\00b7\"; padding: 0 .5ex}\n",
       "</style>\n",
       "<ol class=list-inline><li>2</li><li>5</li><li>8</li><li>11</li><li>14</li></ol>\n"
      ],
      "text/latex": [
       "\\begin{enumerate*}\n",
       "\\item 2\n",
       "\\item 5\n",
       "\\item 8\n",
       "\\item 11\n",
       "\\item 14\n",
       "\\end{enumerate*}\n"
      ],
      "text/markdown": [
       "1. 2\n",
       "2. 5\n",
       "3. 8\n",
       "4. 11\n",
       "5. 14\n",
       "\n",
       "\n"
      ],
      "text/plain": [
       "[1]  2  5  8 11 14"
      ]
     },
     "metadata": {},
     "output_type": "display_data"
    },
    {
     "data": {
      "text/html": [
       "<style>\n",
       ".list-inline {list-style: none; margin:0; padding: 0}\n",
       ".list-inline>li {display: inline-block}\n",
       ".list-inline>li:not(:last-child)::after {content: \"\\00b7\"; padding: 0 .5ex}\n",
       "</style>\n",
       "<ol class=list-inline><li>2</li><li>4</li><li>4</li><li>6</li><li>6</li><li>8</li></ol>\n"
      ],
      "text/latex": [
       "\\begin{enumerate*}\n",
       "\\item 2\n",
       "\\item 4\n",
       "\\item 4\n",
       "\\item 6\n",
       "\\item 6\n",
       "\\item 8\n",
       "\\end{enumerate*}\n"
      ],
      "text/markdown": [
       "1. 2\n",
       "2. 4\n",
       "3. 4\n",
       "4. 6\n",
       "5. 6\n",
       "6. 8\n",
       "\n",
       "\n"
      ],
      "text/plain": [
       "[1] 2 4 4 6 6 8"
      ]
     },
     "metadata": {},
     "output_type": "display_data"
    },
    {
     "data": {
      "text/html": [
       "<style>\n",
       ".list-inline {list-style: none; margin:0; padding: 0}\n",
       ".list-inline>li {display: inline-block}\n",
       ".list-inline>li:not(:last-child)::after {content: \"\\00b7\"; padding: 0 .5ex}\n",
       "</style>\n",
       "<ol class=list-inline><li>FALSE</li><li>FALSE</li><li>FALSE</li><li>TRUE</li><li>FALSE</li><li>TRUE</li><li>TRUE</li></ol>\n"
      ],
      "text/latex": [
       "\\begin{enumerate*}\n",
       "\\item FALSE\n",
       "\\item FALSE\n",
       "\\item FALSE\n",
       "\\item TRUE\n",
       "\\item FALSE\n",
       "\\item TRUE\n",
       "\\item TRUE\n",
       "\\end{enumerate*}\n"
      ],
      "text/markdown": [
       "1. FALSE\n",
       "2. FALSE\n",
       "3. FALSE\n",
       "4. TRUE\n",
       "5. FALSE\n",
       "6. TRUE\n",
       "7. TRUE\n",
       "\n",
       "\n"
      ],
      "text/plain": [
       "[1] FALSE FALSE FALSE  TRUE FALSE  TRUE  TRUE"
      ]
     },
     "metadata": {},
     "output_type": "display_data"
    },
    {
     "data": {
      "text/html": [
       "<style>\n",
       ".list-inline {list-style: none; margin:0; padding: 0}\n",
       ".list-inline>li {display: inline-block}\n",
       ".list-inline>li:not(:last-child)::after {content: \"\\00b7\"; padding: 0 .5ex}\n",
       "</style>\n",
       "<ol class=list-inline><li>2</li><li>4</li><li>6</li><li>8</li><li>10</li></ol>\n"
      ],
      "text/latex": [
       "\\begin{enumerate*}\n",
       "\\item 2\n",
       "\\item 4\n",
       "\\item 6\n",
       "\\item 8\n",
       "\\item 10\n",
       "\\end{enumerate*}\n"
      ],
      "text/markdown": [
       "1. 2\n",
       "2. 4\n",
       "3. 6\n",
       "4. 8\n",
       "5. 10\n",
       "\n",
       "\n"
      ],
      "text/plain": [
       "[1]  2  4  6  8 10"
      ]
     },
     "metadata": {},
     "output_type": "display_data"
    }
   ],
   "source": [
    "# You can do any arithmetic operation with vector in R\n",
    "x = 1:5\n",
    "y = seq(1,10,2)\n",
    "x + y\n",
    "\n",
    "#\n",
    "a = 1:6\n",
    "b = c(1,2)\n",
    "a+b\n",
    "\n",
    "#\n",
    "z = c(1,4,3,6,3,24,7)\n",
    "z > 5\n",
    "\n",
    "#\n",
    "n = seq(1,9,2) #1,3,5,7,9\n",
    "n + 1"
   ]
  },
  {
   "cell_type": "code",
   "execution_count": 6,
   "id": "3dc18c22",
   "metadata": {
    "vscode": {
     "languageId": "r"
    }
   },
   "outputs": [
    {
     "name": "stdout",
     "output_type": "stream",
     "text": [
      "[1] 3 2 3 4\n"
     ]
    }
   ],
   "source": [
    "z <- c(1,2,3,4)\n",
    "z[1] <- 3 # Modify the first element in the vector \n",
    "print(z)"
   ]
  },
  {
   "cell_type": "code",
   "execution_count": 25,
   "id": "4104772e",
   "metadata": {
    "vscode": {
     "languageId": "r"
    }
   },
   "outputs": [
    {
     "name": "stdout",
     "output_type": "stream",
     "text": [
      "[1] \"a\" \"1\" \"2\"\n"
     ]
    },
    {
     "data": {
      "text/html": [
       "'character'"
      ],
      "text/latex": [
       "'character'"
      ],
      "text/markdown": [
       "'character'"
      ],
      "text/plain": [
       "[1] \"character\""
      ]
     },
     "metadata": {},
     "output_type": "display_data"
    }
   ],
   "source": [
    "a <- c('a',1,2) # R will automatically convert the all elements to be in the common type, which is character\n",
    "print(a)\n",
    "typeof(a[2])"
   ]
  },
  {
   "cell_type": "markdown",
   "id": "9d680096",
   "metadata": {},
   "source": [
    "Some useful functions for working with vectors in R:\n",
    "\n",
    "- `length(x)` — returns the number of elements in vector x.\n",
    "- `sum(x)` — computes the sum of all elements in x.\n",
    "- `mean(x)` — calculates the average value of x.\n",
    "- `max(x)` - finds the maximum value in `x`.\n",
    "- `sort(x)` — returns a sorted version of x.\n",
    "- `unique(x)` — extracts unique elements from x.\n",
    "- `c()` — combines values/vectors into a new vector.\n",
    "- `seq(from, to, by)` — generates equally spaced sequences of numbers.\n",
    "- `rep(x, times)` — repeats elements to create vectors.\n",
    "- `lapply(x, FUN)` — applies a function `FUN` to each element of a vector, returns a list.\n",
    "- `sapply(x, FUN)` — similar to lapply(), but results are simplified (e.g., to a vector or matrix).\n",
    "- `which()` — returns indices of elements matching a condition.\n",
    "- `names(x)` - returns the names of elements.\n",
    "- `:`  — (not a function) creates a sequence of consecutive integers between two numbers."
   ]
  },
  {
   "cell_type": "code",
   "execution_count": 24,
   "id": "9b38f4b7",
   "metadata": {
    "vscode": {
     "languageId": "r"
    }
   },
   "outputs": [
    {
     "name": "stdout",
     "output_type": "stream",
     "text": [
      "[1] 1 3 5 7 9\n",
      " [1]  1  2  3  4  5  6  7  8  9 10\n"
     ]
    },
    {
     "data": {
      "text/html": [
       "55"
      ],
      "text/latex": [
       "55"
      ],
      "text/markdown": [
       "55"
      ],
      "text/plain": [
       "[1] 55"
      ]
     },
     "metadata": {},
     "output_type": "display_data"
    },
    {
     "data": {
      "text/html": [
       "5.5"
      ],
      "text/latex": [
       "5.5"
      ],
      "text/markdown": [
       "5.5"
      ],
      "text/plain": [
       "[1] 5.5"
      ]
     },
     "metadata": {},
     "output_type": "display_data"
    }
   ],
   "source": [
    "x = seq(from = 1, to = 10, by = 2)\n",
    "print(x)\n",
    "\n",
    "y = 1:10\n",
    "print(y)\n",
    "sum(y)\n",
    "mean(y)"
   ]
  },
  {
   "cell_type": "code",
   "execution_count": null,
   "id": "06836c64",
   "metadata": {
    "vscode": {
     "languageId": "r"
    }
   },
   "outputs": [
    {
     "name": "stdout",
     "output_type": "stream",
     "text": [
      "[1]  3  9 15 21\n"
     ]
    },
    {
     "data": {
      "text/html": [
       "48"
      ],
      "text/latex": [
       "48"
      ],
      "text/markdown": [
       "48"
      ],
      "text/plain": [
       "[1] 48"
      ]
     },
     "metadata": {},
     "output_type": "display_data"
    }
   ],
   "source": [
    "# Excersize: \n",
    "x <- seq(1,21,2)\n",
    "y <- x %%3 == 0\n",
    "x1 <- x[y]\n",
    "print(x1)\n",
    "sum(x1)"
   ]
  },
  {
   "cell_type": "markdown",
   "id": "bd475c18",
   "metadata": {},
   "source": [
    "### Matrix"
   ]
  },
  {
   "cell_type": "markdown",
   "id": "c29f3f5c",
   "metadata": {},
   "source": [
    "#### **Common Functions for Working with Matrices**\n",
    "\n",
    "- `dim(x)` — returns the dimensions (rows and columns) of matrix `x`.  \n",
    "- `nrow(x)` — returns the number of rows.  \n",
    "- `ncol(x)` — returns the number of columns.  \n",
    "- `t(x)` — returns the transpose of matrix `x`.  \n",
    "- `rowSums(x)` — computes the sum of each row.  \n",
    "- `colSums(x)` — computes the sum of each column.  \n",
    "- `rowMeans(x)` — computes the mean of each row.  \n",
    "- `colMeans(x)` — computes the mean of each column.  \n",
    "- `apply(x, MARGIN, FUN)` — applies a function `FUN` over rows (`MARGIN = 1`) or columns (`MARGIN = 2`).  \n",
    "- `matrix(data, nrow, ncol)` — creates a matrix from the given data.  \n",
    "- `cbind()` - combines two matrices by columns.\n",
    "- `rbind()` - combines two matrices by columns.\n",
    "- `dimnames(x)` — gets or sets row and column names.  \n",
    "- `rownames(x)` — returns or sets row names.  \n",
    "- `colnames(x)` — returns or sets column names."
   ]
  },
  {
   "cell_type": "code",
   "execution_count": null,
   "id": "ec3d1323",
   "metadata": {
    "vscode": {
     "languageId": "r"
    }
   },
   "outputs": [
    {
     "name": "stdout",
     "output_type": "stream",
     "text": [
      "     [,1] [,2] [,3]\n",
      "[1,]    1    4    7\n",
      "[2,]    2    5    8\n",
      "[3,]    3    6    9\n",
      "[1] 7 8\n",
      "     [,1] [,2]\n",
      "[1,]    1    4\n",
      "[2,]    2    5\n"
     ]
    }
   ],
   "source": [
    "A = matrix(data = 1:9,\n",
    "           nrow = 3,\n",
    "           ncol = 3)\n",
    "print(A)\n",
    "print(A[1:2, 3:3]) #This will print out the value at A[1,3] and then A[2,3]\n",
    "print(A[1:2, 1:2])"
   ]
  },
  {
   "cell_type": "code",
   "execution_count": null,
   "id": "1e3c527f",
   "metadata": {
    "vscode": {
     "languageId": "r"
    }
   },
   "outputs": [
    {
     "data": {
      "text/html": [
       "<style>\n",
       ".list-inline {list-style: none; margin:0; padding: 0}\n",
       ".list-inline>li {display: inline-block}\n",
       ".list-inline>li:not(:last-child)::after {content: \"\\00b7\"; padding: 0 .5ex}\n",
       "</style>\n",
       "<ol class=list-inline><li>1</li><li>2</li><li>3</li></ol>\n"
      ],
      "text/latex": [
       "\\begin{enumerate*}\n",
       "\\item 1\n",
       "\\item 2\n",
       "\\item 3\n",
       "\\end{enumerate*}\n"
      ],
      "text/markdown": [
       "1. 1\n",
       "2. 2\n",
       "3. 3\n",
       "\n",
       "\n"
      ],
      "text/plain": [
       "[1] 1 2 3"
      ]
     },
     "metadata": {},
     "output_type": "display_data"
    }
   ],
   "source": [
    "A[,1] # Return all the value at column 1"
   ]
  },
  {
   "cell_type": "code",
   "execution_count": 8,
   "id": "8772da2a",
   "metadata": {
    "vscode": {
     "languageId": "r"
    }
   },
   "outputs": [
    {
     "name": "stdout",
     "output_type": "stream",
     "text": [
      "     [,1] [,2] [,3]\n",
      "[1,]    1    4    7\n",
      "[2,]    2    5    8\n",
      "[3,]    3    6    9\n"
     ]
    },
    {
     "name": "stdout",
     "output_type": "stream",
     "text": [
      "     [,1] [,2] [,3]\n",
      "[1,]    1    4    7\n",
      "[2,]   10   11   12\n",
      "[3,]    3    6    9\n",
      "     [,1] [,2] [,3]\n",
      "[1,]  100    4    7\n",
      "[2,]  101   11   12\n",
      "[3,]  102    6    9\n",
      "     [,1] [,2] [,3]\n",
      "[1,]  100    4    7\n",
      "[2,]  101   11   12\n",
      "[3,]  102  999    9\n"
     ]
    }
   ],
   "source": [
    "\n",
    "print(A)\n",
    "\n",
    "# Modify the second row\n",
    "A[2, ] = c(10, 11, 12)\n",
    "print(A)    \n",
    "\n",
    "# Modify the first column\n",
    "A[, 1] = c(100, 101, 102)\n",
    "print(A)\n",
    "\n",
    "# Modify a specific element (row 3, column 2)\n",
    "A[3, 2] = 999\n",
    "print(A)"
   ]
  },
  {
   "cell_type": "markdown",
   "id": "0b353a09",
   "metadata": {},
   "source": [
    "In R, matrices are stored in column-major order, meaning elements are filled column by column, not row by row.\n",
    "\n",
    "To us, a matrix is a 2-dimensional array. But to the computer, a matrix is stored as a 1-dimensional array (a vector), so 1-dimensional indexing can be used to extract elements, which can be useful for high-performance applications. However, two-dimensional indexing remains the standard and safer approach."
   ]
  },
  {
   "cell_type": "code",
   "execution_count": null,
   "id": "904bd2da",
   "metadata": {
    "vscode": {
     "languageId": "r"
    }
   },
   "outputs": [
    {
     "data": {
      "text/html": [
       "<style>\n",
       ".list-inline {list-style: none; margin:0; padding: 0}\n",
       ".list-inline>li {display: inline-block}\n",
       ".list-inline>li:not(:last-child)::after {content: \"\\00b7\"; padding: 0 .5ex}\n",
       "</style>\n",
       "<ol class=list-inline><li>100</li><li>101</li><li>102</li><li>4</li></ol>\n"
      ],
      "text/latex": [
       "\\begin{enumerate*}\n",
       "\\item 100\n",
       "\\item 101\n",
       "\\item 102\n",
       "\\item 4\n",
       "\\end{enumerate*}\n"
      ],
      "text/markdown": [
       "1. 100\n",
       "2. 101\n",
       "3. 102\n",
       "4. 4\n",
       "\n",
       "\n"
      ],
      "text/plain": [
       "[1] 100 101 102   4"
      ]
     },
     "metadata": {},
     "output_type": "display_data"
    }
   ],
   "source": [
    "# Matrix in R is a column-major ordering, which means that it will return the values base on the order of the columns\n",
    "A[1:4]"
   ]
  },
  {
   "cell_type": "code",
   "execution_count": null,
   "id": "e90035c3",
   "metadata": {
    "vscode": {
     "languageId": "r"
    }
   },
   "outputs": [
    {
     "name": "stdout",
     "output_type": "stream",
     "text": [
      "     [,1] [,2] [,3]\n",
      "[1,]  100    4    7\n",
      "[2,]  101   11   12\n",
      "[3,]  102  999    9\n",
      "     [,1] [,2] [,3]\n",
      "[1,]  101    5    8\n",
      "[2,]  103   13   14\n",
      "[3,]  105 1002   12\n",
      "      [,1]  [,2] [,3]\n",
      "[1,]  TRUE  TRUE TRUE\n",
      "[2,] FALSE FALSE TRUE\n",
      "[3,]  TRUE  TRUE TRUE\n"
     ]
    }
   ],
   "source": [
    "print(A)\n",
    "print(A + c(1,2,3)) # So for this operation, it will add 1 for all elements in the first row, add 2 for all elements in the second row and add 3 for all elements in the third row\n",
    "print(A %% c(1,2,3) == 0) # Same order is applied for this operation"
   ]
  },
  {
   "cell_type": "code",
   "execution_count": 16,
   "id": "d8381b25",
   "metadata": {
    "vscode": {
     "languageId": "r"
    }
   },
   "outputs": [
    {
     "name": "stdout",
     "output_type": "stream",
     "text": [
      "     [,1] [,2] [,3]\n",
      "[1,]    1    7   13\n",
      "[2,]    3    9   15\n",
      "[3,]    5   11   17\n",
      "[1] 21 27 33\n",
      "[1]  3  9 15\n",
      "[1] 13 15 17\n"
     ]
    }
   ],
   "source": [
    "# Exercise:\n",
    "\n",
    "# Create a 3x3 matrix m filled by columns with the first 9 odd numbers (1, 3, 5, ..., 17).\n",
    "matroid = matrix(data=seq(1,17,2),nrow=3,ncol=3)\n",
    "print(matroid)\n",
    "\n",
    "# Use rowSums() to calculate the sum of each row.\n",
    "ans1 <- rowSums(matroid)\n",
    "print(ans1)\n",
    "\n",
    "# Use colMeans() to calculate the the means of each column\n",
    "ans2 <- colMeans(matroid)\n",
    "print(ans2)\n",
    "\n",
    "# Use apply() to find the maximum value in each row. Recall that each row/column of a matrix is a vector.\n",
    "ans3 <- apply(matroid,MARGIN = 1,FUN = max)\n",
    "print(ans3)"
   ]
  },
  {
   "cell_type": "markdown",
   "id": "6acf3b00",
   "metadata": {},
   "source": [
    "### List"
   ]
  },
  {
   "cell_type": "markdown",
   "id": "b136d89a",
   "metadata": {},
   "source": [
    "A list is a datatype that is nearly the same as vector, but for list it requires the same datatype for all the elements while it is not neccessary in vector"
   ]
  },
  {
   "cell_type": "code",
   "execution_count": 20,
   "id": "e5740af1",
   "metadata": {
    "vscode": {
     "languageId": "r"
    }
   },
   "outputs": [],
   "source": [
    "list1 <- list('a','b','c')"
   ]
  },
  {
   "cell_type": "code",
   "execution_count": 21,
   "id": "83335971",
   "metadata": {
    "vscode": {
     "languageId": "r"
    }
   },
   "outputs": [
    {
     "name": "stdout",
     "output_type": "stream",
     "text": [
      "[[1]]\n",
      "[1] \"a\"\n",
      "\n",
      "[[2]]\n",
      "[1] \"b\"\n",
      "\n",
      "[[3]]\n",
      "[1] \"c\"\n",
      "\n"
     ]
    }
   ],
   "source": [
    "print(list1)"
   ]
  },
  {
   "cell_type": "code",
   "execution_count": 27,
   "id": "1d6174ff",
   "metadata": {
    "vscode": {
     "languageId": "r"
    }
   },
   "outputs": [
    {
     "name": "stdout",
     "output_type": "stream",
     "text": [
      "$faculty\n",
      "[1] \"Faculty of Science\"\n",
      "\n",
      "$school\n",
      "[1] \"School of Mathematical Sciences\"\n",
      "\n",
      "$year\n",
      "[1] 2025\n",
      "\n",
      "$unitCode\n",
      "[1] \"MXB107\"\n",
      "\n",
      "$unitName\n",
      "[1] \"Probability & Statistics\"\n",
      "\n"
     ]
    }
   ],
   "source": [
    "mxb107Info = list(faculty = \"Faculty of Science\", school = \"School of Mathematical Sciences\", year = 2025, unitCode = \"MXB107\",\n",
    "unitName = \"Probability & Statistics\") # We can also give the name for the elements inside the list\n",
    "print(mxb107Info)"
   ]
  },
  {
   "cell_type": "code",
   "execution_count": 28,
   "id": "3de72549",
   "metadata": {
    "vscode": {
     "languageId": "r"
    }
   },
   "outputs": [
    {
     "name": "stdout",
     "output_type": "stream",
     "text": [
      "$faculty\n",
      "[1] \"Faculty of Science\"\n",
      "\n",
      "$school\n",
      "[1] \"School of Mathematical Sciences\"\n",
      "\n",
      "$year\n",
      "[1] 2025\n",
      "\n",
      "$unitCode\n",
      "[1] \"MXB107\"\n",
      "\n",
      "$unitName\n",
      "[1] \"Probability & Statistics\"\n",
      "\n"
     ]
    },
    {
     "data": {
      "text/html": [
       "'Faculty of Science'"
      ],
      "text/latex": [
       "'Faculty of Science'"
      ],
      "text/markdown": [
       "'Faculty of Science'"
      ],
      "text/plain": [
       "[1] \"Faculty of Science\""
      ]
     },
     "metadata": {},
     "output_type": "display_data"
    },
    {
     "data": {
      "text/html": [
       "'Faculty of Science'"
      ],
      "text/latex": [
       "'Faculty of Science'"
      ],
      "text/markdown": [
       "'Faculty of Science'"
      ],
      "text/plain": [
       "[1] \"Faculty of Science\""
      ]
     },
     "metadata": {},
     "output_type": "display_data"
    }
   ],
   "source": [
    "print(mxb107Info)\n",
    "mxb107Info$faculty\n",
    "mxb107Info$faculty[[1]]"
   ]
  },
  {
   "cell_type": "code",
   "execution_count": 30,
   "id": "d1f5b019",
   "metadata": {
    "vscode": {
     "languageId": "r"
    }
   },
   "outputs": [
    {
     "name": "stdout",
     "output_type": "stream",
     "text": [
      "$faculty\n",
      "[1] \"Faculty of Science\"\n",
      "\n",
      "$school\n",
      "[1] \"School of Mathematical Sciences\"\n",
      "\n",
      "$year\n",
      "[1] 2025\n",
      "\n",
      "$unitCode\n",
      "[1] \"MXB107\"\n",
      "\n",
      "$unitName\n",
      "[1] \"Probability & Statistics\"\n",
      "\n"
     ]
    },
    {
     "data": {
      "text/html": [
       "'Faculty of Science'"
      ],
      "text/latex": [
       "'Faculty of Science'"
      ],
      "text/markdown": [
       "'Faculty of Science'"
      ],
      "text/plain": [
       "[1] \"Faculty of Science\""
      ]
     },
     "metadata": {},
     "output_type": "display_data"
    },
    {
     "data": {
      "text/html": [
       "'list'"
      ],
      "text/latex": [
       "'list'"
      ],
      "text/markdown": [
       "'list'"
      ],
      "text/plain": [
       "[1] \"list\""
      ]
     },
     "metadata": {},
     "output_type": "display_data"
    },
    {
     "name": "stdout",
     "output_type": "stream",
     "text": [
      "$unitCode\n",
      "[1] \"MXB107\"\n",
      "\n"
     ]
    }
   ],
   "source": [
    "print(mxb107Info)\n",
    "mxb107Info$faculty\n",
    "typeof(mxb107Info[4])\n",
    "print(mxb107Info[4])"
   ]
  },
  {
   "cell_type": "markdown",
   "id": "31ed4dfb",
   "metadata": {},
   "source": [
    "#### **Common Functions for Working with Lists**\n",
    "\n",
    "- `str(x)` — displays the structure of a list — useful for inspection.\n",
    "- `lapply(x, FUN)` — applies a function `FUN` to each element of a list, returns a list.\n",
    "- `sapply(x, FUN)` — similar to lapply(), but results are simplified (e.g., to a vector or matrix).\n",
    "- `unlist(x)` — flattens a list into a vector if possible.\n",
    "- `append(x, value)` — adds elements to a list."
   ]
  },
  {
   "cell_type": "code",
   "execution_count": 33,
   "id": "c842d76e",
   "metadata": {
    "vscode": {
     "languageId": "r"
    }
   },
   "outputs": [
    {
     "data": {
      "text/html": [
       "<dl>\n",
       "\t<dt>$area</dt>\n",
       "\t\t<dd>28.2743338823081</dd>\n",
       "\t<dt>$circumference</dt>\n",
       "\t\t<dd>18.8495559215388</dd>\n",
       "</dl>\n"
      ],
      "text/latex": [
       "\\begin{description}\n",
       "\\item[\\$area] 28.2743338823081\n",
       "\\item[\\$circumference] 18.8495559215388\n",
       "\\end{description}\n"
      ],
      "text/markdown": [
       "$area\n",
       ":   28.2743338823081\n",
       "$circumference\n",
       ":   18.8495559215388\n",
       "\n",
       "\n"
      ],
      "text/plain": [
       "$area\n",
       "[1] 28.27433\n",
       "\n",
       "$circumference\n",
       "[1] 18.84956\n"
      ]
     },
     "metadata": {},
     "output_type": "display_data"
    }
   ],
   "source": [
    "Circle = function(radius)\n",
    "{\n",
    "    area = pi * (radius^2)\n",
    "    circumference = 2 * pi * radius\n",
    "    return (list(area = area,circumference = circumference))\n",
    "}\n",
    "Circle(3)"
   ]
  },
  {
   "cell_type": "markdown",
   "id": "9903210a",
   "metadata": {},
   "source": [
    "### Dataframe"
   ]
  },
  {
   "cell_type": "markdown",
   "id": "3e64898f",
   "metadata": {},
   "source": [
    "A data frame is a table-like data structure in R where each column can hold different types (numeric, character, etc), and each row represents an observation. It’s widely used for storing and manipulating datasets. Think of that as an Excel table in R, but more efficient."
   ]
  },
  {
   "cell_type": "markdown",
   "id": "cf6a5fea",
   "metadata": {},
   "source": [
    "All the columns in the dataframe must have the same length"
   ]
  },
  {
   "cell_type": "code",
   "execution_count": 1,
   "id": "193222d0",
   "metadata": {
    "vscode": {
     "languageId": "r"
    }
   },
   "outputs": [
    {
     "name": "stdout",
     "output_type": "stream",
     "text": [
      "      Class                 Type Day Location Limit         Teaching_Staff From\n",
      "1  LEC01 01   Lecture (Internal) Wed  GP B117   240         Chris Drovandi   11\n",
      "2  LEC01 01     Lecture (Online) Wed   Online  1000         Chris Drovandi   11\n",
      "3  PRC01 01   Practical (Online) Wed   Online    30     Narayan Srinivasan   16\n",
      "4  PRC01 01 Practical (Internal) Thu  GP D413    35     Narayan Srinivasan   16\n",
      "5  PRC01 02   Practical (Online) Thu   Online    30              Oliver Vu   16\n",
      "6  PRC01 03 Practical (Internal) Thu  GP G216    35       Minh Long Nguyen   09\n",
      "7  PRC01 07 Practical (Internal) Thu  GP S520    25             Ryan Kelly   14\n",
      "8  PRC01 08 Practical (Internal) Thu  GP S517    30 Nicholas Gecks-Preston   09\n",
      "9  PRC01 02 Practical (Internal) Fri  GP G216    35              Oliver Vu    9\n",
      "10 PRC01 04 Practical (Internal) Fri  GP G216    35         Arwen Nugteren   11\n",
      "11 PRC01 05 Practical (Internal) Fri  GP S502    35         Arwen Nugteren   15\n",
      "12 PRC01 06 Practical (Internal) Fri  GP S519    35       Minh Long Nguyen   15\n",
      "   To\n",
      "1  13\n",
      "2  13\n",
      "3  18\n",
      "4  18\n",
      "5  18\n",
      "6  11\n",
      "7  16\n",
      "8  11\n",
      "9  11\n",
      "10 13\n",
      "11 17\n",
      "12 17\n",
      "function (x, df1, df2, ncp, log = FALSE)  \n"
     ]
    }
   ],
   "source": [
    "MXB107_ClassInfo <- data.frame(\n",
    "  Class = c(\n",
    "    \"LEC01 01\", \"LEC01 01\", \"PRC01 01\", \"PRC01 01\", \"PRC01 02\",\n",
    "    \"PRC01 03\", \"PRC01 07\", \"PRC01 08\", \"PRC01 02\", \"PRC01 04\",\n",
    "    \"PRC01 05\", \"PRC01 06\"\n",
    "  ),\n",
    "  Type = c(\n",
    "    \"Lecture (Internal)\", \"Lecture (Online)\", \"Practical (Online)\", \"Practical (Internal)\",\n",
    "    \"Practical (Online)\", \"Practical (Internal)\", \"Practical (Internal)\", \"Practical (Internal)\",\n",
    "    \"Practical (Internal)\", \"Practical (Internal)\", \"Practical (Internal)\", \"Practical (Internal)\"\n",
    "  ),\n",
    "  Day = c(\n",
    "    \"Wed\", \"Wed\", \"Wed\", \"Thu\", \"Thu\", \"Thu\", \"Thu\", \"Thu\", \"Fri\", \"Fri\", \"Fri\", \"Fri\"\n",
    "  ),\n",
    "  Location = c(\n",
    "    \"GP B117\", \"Online\", \"Online\", \"GP D413\", \"Online\", \"GP G216\", \"GP S520\", \"GP S517\",\n",
    "    \"GP G216\", \"GP G216\", \"GP S502\", \"GP S519\"\n",
    "  ),\n",
    "  Limit = c(\n",
    "    240, 1000, 30, 35, 30, 35, 25, 30, 35, 35, 35, 35\n",
    "  ),\n",
    "  Teaching_Staff = c(\n",
    "    \"Chris Drovandi\", \"Chris Drovandi\", \"Narayan Srinivasan\", \"Narayan Srinivasan\",\n",
    "    \"Oliver Vu\", \"Minh Long Nguyen\", \"Ryan Kelly\", \"Nicholas Gecks-Preston\",\n",
    "    \"Oliver Vu\", \"Arwen Nugteren\", \"Arwen Nugteren\", \"Minh Long Nguyen\"\n",
    "  ),\n",
    "  From = c(\n",
    "    \"11\", \"11\", \"16\", \"16\", \"16\", \"09\", \"14\", \"09\",\n",
    "    \"9\", \"11\", \"15\", \"15\"\n",
    "  ),\n",
    "  To = c(\n",
    "    \"13\", \"13\", \"18\", \"18\", \"18\", \"11\", \"16\", \"11\",\n",
    "    \"11\", \"13\", \"17\", \"17\"\n",
    "  ),\n",
    "  stringsAsFactors = FALSE\n",
    ")\n",
    "print(MXB107_ClassInfo)\n",
    "str(df)"
   ]
  },
  {
   "cell_type": "markdown",
   "id": "f47c2894",
   "metadata": {},
   "source": [
    "Indexing a data frame is quite similar to indexing a matrix. However, there are some additional operations specific to data frames:\n",
    "\n",
    "Access columns by name: df$name or df[[\"name\"]]\n",
    "Access rows and columns by position:\n",
    "df[i, ] (i-th row),\n",
    "or df[,j] (j-th column),\n",
    "or df[i, j] (element in i-th row, j-th column).\n",
    "Extract multiple rows or columns using vectors: df[rowIdxVec, colIdxVec], df[rowIdxVec, c(\"nameofCol1\", \"nameofCol2\")]."
   ]
  },
  {
   "cell_type": "code",
   "execution_count": 2,
   "id": "f8572b61",
   "metadata": {
    "vscode": {
     "languageId": "r"
    }
   },
   "outputs": [
    {
     "data": {
      "text/html": [
       "'Lecture (Internal)'"
      ],
      "text/latex": [
       "'Lecture (Internal)'"
      ],
      "text/markdown": [
       "'Lecture (Internal)'"
      ],
      "text/plain": [
       "[1] \"Lecture (Internal)\""
      ]
     },
     "metadata": {},
     "output_type": "display_data"
    }
   ],
   "source": [
    "MXB107_ClassInfo[1,2]"
   ]
  },
  {
   "cell_type": "code",
   "execution_count": 3,
   "id": "ebc015b9",
   "metadata": {
    "vscode": {
     "languageId": "r"
    }
   },
   "outputs": [
    {
     "data": {
      "text/html": [
       "<style>\n",
       ".list-inline {list-style: none; margin:0; padding: 0}\n",
       ".list-inline>li {display: inline-block}\n",
       ".list-inline>li:not(:last-child)::after {content: \"\\00b7\"; padding: 0 .5ex}\n",
       "</style>\n",
       "<ol class=list-inline><li>'LEC01 01'</li><li>'LEC01 01'</li><li>'PRC01 01'</li><li>'PRC01 01'</li><li>'PRC01 02'</li><li>'PRC01 03'</li><li>'PRC01 07'</li><li>'PRC01 08'</li><li>'PRC01 02'</li><li>'PRC01 04'</li><li>'PRC01 05'</li><li>'PRC01 06'</li></ol>\n"
      ],
      "text/latex": [
       "\\begin{enumerate*}\n",
       "\\item 'LEC01 01'\n",
       "\\item 'LEC01 01'\n",
       "\\item 'PRC01 01'\n",
       "\\item 'PRC01 01'\n",
       "\\item 'PRC01 02'\n",
       "\\item 'PRC01 03'\n",
       "\\item 'PRC01 07'\n",
       "\\item 'PRC01 08'\n",
       "\\item 'PRC01 02'\n",
       "\\item 'PRC01 04'\n",
       "\\item 'PRC01 05'\n",
       "\\item 'PRC01 06'\n",
       "\\end{enumerate*}\n"
      ],
      "text/markdown": [
       "1. 'LEC01 01'\n",
       "2. 'LEC01 01'\n",
       "3. 'PRC01 01'\n",
       "4. 'PRC01 01'\n",
       "5. 'PRC01 02'\n",
       "6. 'PRC01 03'\n",
       "7. 'PRC01 07'\n",
       "8. 'PRC01 08'\n",
       "9. 'PRC01 02'\n",
       "10. 'PRC01 04'\n",
       "11. 'PRC01 05'\n",
       "12. 'PRC01 06'\n",
       "\n",
       "\n"
      ],
      "text/plain": [
       " [1] \"LEC01 01\" \"LEC01 01\" \"PRC01 01\" \"PRC01 01\" \"PRC01 02\" \"PRC01 03\"\n",
       " [7] \"PRC01 07\" \"PRC01 08\" \"PRC01 02\" \"PRC01 04\" \"PRC01 05\" \"PRC01 06\""
      ]
     },
     "metadata": {},
     "output_type": "display_data"
    }
   ],
   "source": [
    "MXB107_ClassInfo[[\"Class\"]]"
   ]
  },
  {
   "cell_type": "code",
   "execution_count": null,
   "id": "7a9bf9c8",
   "metadata": {
    "vscode": {
     "languageId": "r"
    }
   },
   "outputs": [
    {
     "data": {
      "text/html": [
       "<table class=\"dataframe\">\n",
       "<caption>A data.frame: 1 x 2</caption>\n",
       "<thead>\n",
       "\t<tr><th></th><th scope=col>Class</th><th scope=col>Day</th></tr>\n",
       "\t<tr><th></th><th scope=col>&lt;chr&gt;</th><th scope=col>&lt;chr&gt;</th></tr>\n",
       "</thead>\n",
       "<tbody>\n",
       "\t<tr><th scope=row>1</th><td>LEC01 01</td><td>Wed</td></tr>\n",
       "</tbody>\n",
       "</table>\n"
      ],
      "text/latex": [
       "A data.frame: 1 x 2\n",
       "\\begin{tabular}{r|ll}\n",
       "  & Class & Day\\\\\n",
       "  & <chr> & <chr>\\\\\n",
       "\\hline\n",
       "\t1 & LEC01 01 & Wed\\\\\n",
       "\\end{tabular}\n"
      ],
      "text/markdown": [
       "\n",
       "A data.frame: 1 x 2\n",
       "\n",
       "| <!--/--> | Class &lt;chr&gt; | Day &lt;chr&gt; |\n",
       "|---|---|---|\n",
       "| 1 | LEC01 01 | Wed |\n",
       "\n"
      ],
      "text/plain": [
       "  Class    Day\n",
       "1 LEC01 01 Wed"
      ]
     },
     "metadata": {},
     "output_type": "display_data"
    }
   ],
   "source": [
    "MXB107_ClassInfo[1,c(\"Class\",\"Day\")] #Access row 1 for column Class and Day"
   ]
  },
  {
   "cell_type": "markdown",
   "id": "279af463",
   "metadata": {},
   "source": [
    "Like matrix, you can access the column of the dataframe through its name"
   ]
  },
  {
   "cell_type": "code",
   "execution_count": 5,
   "id": "e456c6ea",
   "metadata": {
    "vscode": {
     "languageId": "r"
    }
   },
   "outputs": [
    {
     "data": {
      "text/html": [
       "<style>\n",
       ".list-inline {list-style: none; margin:0; padding: 0}\n",
       ".list-inline>li {display: inline-block}\n",
       ".list-inline>li:not(:last-child)::after {content: \"\\00b7\"; padding: 0 .5ex}\n",
       "</style>\n",
       "<ol class=list-inline><li>'GP B117'</li><li>'Online'</li><li>'Online'</li><li>'GP D413'</li><li>'Online'</li><li>'GP G216'</li><li>'GP S520'</li><li>'GP S517'</li><li>'GP G216'</li><li>'GP G216'</li><li>'GP S502'</li><li>'GP S519'</li></ol>\n"
      ],
      "text/latex": [
       "\\begin{enumerate*}\n",
       "\\item 'GP B117'\n",
       "\\item 'Online'\n",
       "\\item 'Online'\n",
       "\\item 'GP D413'\n",
       "\\item 'Online'\n",
       "\\item 'GP G216'\n",
       "\\item 'GP S520'\n",
       "\\item 'GP S517'\n",
       "\\item 'GP G216'\n",
       "\\item 'GP G216'\n",
       "\\item 'GP S502'\n",
       "\\item 'GP S519'\n",
       "\\end{enumerate*}\n"
      ],
      "text/markdown": [
       "1. 'GP B117'\n",
       "2. 'Online'\n",
       "3. 'Online'\n",
       "4. 'GP D413'\n",
       "5. 'Online'\n",
       "6. 'GP G216'\n",
       "7. 'GP S520'\n",
       "8. 'GP S517'\n",
       "9. 'GP G216'\n",
       "10. 'GP G216'\n",
       "11. 'GP S502'\n",
       "12. 'GP S519'\n",
       "\n",
       "\n"
      ],
      "text/plain": [
       " [1] \"GP B117\" \"Online\"  \"Online\"  \"GP D413\" \"Online\"  \"GP G216\" \"GP S520\"\n",
       " [8] \"GP S517\" \"GP G216\" \"GP G216\" \"GP S502\" \"GP S519\""
      ]
     },
     "metadata": {},
     "output_type": "display_data"
    }
   ],
   "source": [
    "MXB107_ClassInfo$Location"
   ]
  },
  {
   "cell_type": "markdown",
   "id": "fe708c79",
   "metadata": {},
   "source": [
    "##### Modifying a dataframe"
   ]
  },
  {
   "cell_type": "markdown",
   "id": "ac221f06",
   "metadata": {},
   "source": [
    "Create a new column"
   ]
  },
  {
   "cell_type": "code",
   "execution_count": null,
   "id": "dfbc1bf1",
   "metadata": {
    "vscode": {
     "languageId": "r"
    }
   },
   "outputs": [],
   "source": [
    "MXB107_ClassInfo$Semester = \"Semester 2\" # This will help create a new column in our dataframe and assign all the values in this column as Semester 2."
   ]
  },
  {
   "cell_type": "code",
   "execution_count": 7,
   "id": "ece52bef",
   "metadata": {
    "vscode": {
     "languageId": "r"
    }
   },
   "outputs": [
    {
     "name": "stdout",
     "output_type": "stream",
     "text": [
      "'data.frame':\t12 obs. of  9 variables:\n",
      " $ Class         : chr  \"LEC01 01\" \"LEC01 01\" \"PRC01 01\" \"PRC01 01\" ...\n",
      " $ Type          : chr  \"Lecture (Internal)\" \"Lecture (Online)\" \"Practical (Online)\" \"Practical (Internal)\" ...\n",
      " $ Day           : chr  \"Wed\" \"Wed\" \"Wed\" \"Thu\" ...\n",
      " $ Location      : chr  \"GP B117\" \"Online\" \"Online\" \"GP D413\" ...\n",
      " $ Limit         : num  240 1000 30 35 30 35 25 30 35 35 ...\n",
      " $ Teaching_Staff: chr  \"Chris Drovandi\" \"Chris Drovandi\" \"Narayan Srinivasan\" \"Narayan Srinivasan\" ...\n",
      " $ From          : chr  \"11\" \"11\" \"16\" \"16\" ...\n",
      " $ To            : chr  \"13\" \"13\" \"18\" \"18\" ...\n",
      " $ Semester      : chr  \"Semester 2\" \"Semester 2\" \"Semester 2\" \"Semester 2\" ...\n"
     ]
    }
   ],
   "source": [
    "str(MXB107_ClassInfo)"
   ]
  },
  {
   "cell_type": "markdown",
   "id": "a8f1b35b",
   "metadata": {},
   "source": [
    "Modify a column"
   ]
  },
  {
   "cell_type": "code",
   "execution_count": 8,
   "id": "6290dfa2",
   "metadata": {
    "vscode": {
     "languageId": "r"
    }
   },
   "outputs": [],
   "source": [
    "MXB107_ClassInfo$From = as.numeric(MXB107_ClassInfo$From)\n",
    "MXB107_ClassInfo$To = as.numeric(MXB107_ClassInfo$To)\n",
    "# This code will help changing the datatype of the column From and To in the dataframe from character into the numerical type."
   ]
  },
  {
   "cell_type": "code",
   "execution_count": 10,
   "id": "20508b44",
   "metadata": {
    "vscode": {
     "languageId": "r"
    }
   },
   "outputs": [
    {
     "name": "stdout",
     "output_type": "stream",
     "text": [
      "'data.frame':\t12 obs. of  9 variables:\n",
      " $ Class         : chr  \"LEC01 01\" \"LEC01 01\" \"PRC01 01\" \"PRC01 01\" ...\n",
      " $ Type          : chr  \"Lecture (Internal)\" \"Lecture (Online)\" \"Practical (Online)\" \"Practical (Internal)\" ...\n",
      " $ Day           : chr  \"Wed\" \"Wed\" \"Wed\" \"Thu\" ...\n",
      " $ Location      : chr  \"GP B117\" \"Online\" \"Online\" \"GP D413\" ...\n",
      " $ Limit         : num  240 1000 30 35 30 35 25 30 35 35 ...\n",
      " $ Teaching_Staff: chr  \"Chris Drovandi\" \"Chris Drovandi\" \"Narayan Srinivasan\" \"Narayan Srinivasan\" ...\n",
      " $ From          : num  11 11 16 16 16 9 14 9 9 11 ...\n",
      " $ To            : num  13 13 18 18 18 11 16 11 11 13 ...\n",
      " $ Semester      : chr  \"Semester 2\" \"Semester 2\" \"Semester 2\" \"Semester 2\" ...\n"
     ]
    }
   ],
   "source": [
    "str(MXB107_ClassInfo)"
   ]
  },
  {
   "cell_type": "markdown",
   "id": "be560332",
   "metadata": {},
   "source": [
    "Modify a row"
   ]
  },
  {
   "cell_type": "code",
   "execution_count": 12,
   "id": "71180fbf",
   "metadata": {
    "vscode": {
     "languageId": "r"
    }
   },
   "outputs": [
    {
     "name": "stdout",
     "output_type": "stream",
     "text": [
      "     Class               Type Day Location Limit Teaching_Staff From To\n",
      "1 LEC01 01 Lecture (Internal) Wed  GP B117   240 Chris Drovandi   11 13\n",
      "    Semester\n",
      "1 Semester 2\n",
      "       Class    Type Day Location Limit Teaching_Staff From To   Semester\n",
      "1 1 LEC01 01 Lecture Wed  GP B117   240 Chris Drovandi   11 13 Semester 2\n"
     ]
    }
   ],
   "source": [
    "print(MXB107_ClassInfo[1,])\n",
    "\n",
    "MXB107_ClassInfo[1,] = list(\"1 LEC01 01\", \"Lecture\", \"Wed\", \"GP B117\", 240, \"Chris Drovandi\", 11, 13, \"Semester 2\")\n",
    "print(MXB107_ClassInfo[1,])"
   ]
  },
  {
   "cell_type": "code",
   "execution_count": 13,
   "id": "94ba1b59",
   "metadata": {
    "vscode": {
     "languageId": "r"
    }
   },
   "outputs": [
    {
     "name": "stdout",
     "output_type": "stream",
     "text": [
      "        Class                 Type Day Location Limit         Teaching_Staff\n",
      "1  1 LEC01 01              Lecture Wed  GP B117   240         Chris Drovandi\n",
      "2    LEC01 01     Lecture (Online) Wed   Online  1000         Chris Drovandi\n",
      "3    PRC01 01   Practical (Online) Wed   Online    30     Narayan Srinivasan\n",
      "4    PRC01 01 Practical (Internal) Thu  GP D413    35     Narayan Srinivasan\n",
      "5    PRC01 02   Practical (Online) Thu   Online    30              Oliver Vu\n",
      "6    PRC01 03 Practical (Internal) Thu  GP G216    35       Minh Long Nguyen\n",
      "7    PRC01 07 Practical (Internal) Thu  GP S520    25             Ryan Kelly\n",
      "8    PRC01 08 Practical (Internal) Thu  GP S517    30 Nicholas Gecks-Preston\n",
      "9    PRC01 02 Practical (Internal) Fri  GP G216    35              Oliver Vu\n",
      "10   PRC01 04 Practical (Internal) Fri  GP G216    35         Arwen Nugteren\n",
      "11   PRC01 05 Practical (Internal) Fri  GP S502    35         Arwen Nugteren\n",
      "12   PRC01 06 Practical (Internal) Fri  GP S519    35       Minh Long Nguyen\n",
      "   From To   Semester\n",
      "1    11 13 Semester 2\n",
      "2    11 13 Semester 2\n",
      "3    16 18 Semester 2\n",
      "4    16 18 Semester 2\n",
      "5    16 18 Semester 2\n",
      "6     9 11 Semester 2\n",
      "7    14 16 Semester 2\n",
      "8     9 11 Semester 2\n",
      "9     9 11 Semester 2\n",
      "10   11 13 Semester 2\n",
      "11   15 17 Semester 2\n",
      "12   15 17 Semester 2\n"
     ]
    }
   ],
   "source": [
    "print(MXB107_ClassInfo)"
   ]
  },
  {
   "cell_type": "markdown",
   "id": "e74fef8c",
   "metadata": {},
   "source": [
    "You can also modify just a single entry or smaller entry in a dataframe"
   ]
  },
  {
   "cell_type": "code",
   "execution_count": 14,
   "id": "bea92fd6",
   "metadata": {
    "vscode": {
     "languageId": "r"
    }
   },
   "outputs": [],
   "source": [
    "MXB107_ClassInfo[1,\"From\"] = 12"
   ]
  },
  {
   "cell_type": "markdown",
   "id": "03a17867",
   "metadata": {},
   "source": [
    "#### **Common Functions for Working with Data Frames**\n",
    "\n",
    "- `str(df)` — displays the structure of the data frame  \n",
    "- `summary(df)` — provides summary statistics for each column  \n",
    "- `nrow(df)` and `ncol(df)` — return the number of rows and columns  \n",
    "- `head(df)` and `tail(df)` — show the first or last few rows  \n",
    "- `names(df)` or `colnames(df)` — get or set the column names  \n",
    "- `subset(df, condition)` — extract rows that meet a logical condition  "
   ]
  },
  {
   "cell_type": "code",
   "execution_count": 15,
   "id": "1e7383d3",
   "metadata": {
    "vscode": {
     "languageId": "r"
    }
   },
   "outputs": [
    {
     "data": {
      "text/html": [
       "<table class=\"dataframe\">\n",
       "<caption>A data.frame: 2 x 9</caption>\n",
       "<thead>\n",
       "\t<tr><th></th><th scope=col>Class</th><th scope=col>Type</th><th scope=col>Day</th><th scope=col>Location</th><th scope=col>Limit</th><th scope=col>Teaching_Staff</th><th scope=col>From</th><th scope=col>To</th><th scope=col>Semester</th></tr>\n",
       "\t<tr><th></th><th scope=col>&lt;chr&gt;</th><th scope=col>&lt;chr&gt;</th><th scope=col>&lt;chr&gt;</th><th scope=col>&lt;chr&gt;</th><th scope=col>&lt;dbl&gt;</th><th scope=col>&lt;chr&gt;</th><th scope=col>&lt;dbl&gt;</th><th scope=col>&lt;dbl&gt;</th><th scope=col>&lt;chr&gt;</th></tr>\n",
       "</thead>\n",
       "<tbody>\n",
       "\t<tr><th scope=row>6</th><td>PRC01 03</td><td>Practical (Internal)</td><td>Thu</td><td>GP G216</td><td>35</td><td>Minh Long Nguyen</td><td> 9</td><td>11</td><td>Semester 2</td></tr>\n",
       "\t<tr><th scope=row>12</th><td>PRC01 06</td><td>Practical (Internal)</td><td>Fri</td><td>GP S519</td><td>35</td><td>Minh Long Nguyen</td><td>15</td><td>17</td><td>Semester 2</td></tr>\n",
       "</tbody>\n",
       "</table>\n"
      ],
      "text/latex": [
       "A data.frame: 2 x 9\n",
       "\\begin{tabular}{r|lllllllll}\n",
       "  & Class & Type & Day & Location & Limit & Teaching\\_Staff & From & To & Semester\\\\\n",
       "  & <chr> & <chr> & <chr> & <chr> & <dbl> & <chr> & <dbl> & <dbl> & <chr>\\\\\n",
       "\\hline\n",
       "\t6 & PRC01 03 & Practical (Internal) & Thu & GP G216 & 35 & Minh Long Nguyen &  9 & 11 & Semester 2\\\\\n",
       "\t12 & PRC01 06 & Practical (Internal) & Fri & GP S519 & 35 & Minh Long Nguyen & 15 & 17 & Semester 2\\\\\n",
       "\\end{tabular}\n"
      ],
      "text/markdown": [
       "\n",
       "A data.frame: 2 x 9\n",
       "\n",
       "| <!--/--> | Class &lt;chr&gt; | Type &lt;chr&gt; | Day &lt;chr&gt; | Location &lt;chr&gt; | Limit &lt;dbl&gt; | Teaching_Staff &lt;chr&gt; | From &lt;dbl&gt; | To &lt;dbl&gt; | Semester &lt;chr&gt; |\n",
       "|---|---|---|---|---|---|---|---|---|---|\n",
       "| 6 | PRC01 03 | Practical (Internal) | Thu | GP G216 | 35 | Minh Long Nguyen |  9 | 11 | Semester 2 |\n",
       "| 12 | PRC01 06 | Practical (Internal) | Fri | GP S519 | 35 | Minh Long Nguyen | 15 | 17 | Semester 2 |\n",
       "\n"
      ],
      "text/plain": [
       "   Class    Type                 Day Location Limit Teaching_Staff   From To\n",
       "6  PRC01 03 Practical (Internal) Thu GP G216  35    Minh Long Nguyen  9   11\n",
       "12 PRC01 06 Practical (Internal) Fri GP S519  35    Minh Long Nguyen 15   17\n",
       "   Semester  \n",
       "6  Semester 2\n",
       "12 Semester 2"
      ]
     },
     "metadata": {},
     "output_type": "display_data"
    }
   ],
   "source": [
    "subset(MXB107_ClassInfo, MXB107_ClassInfo$Teaching_Staff == \"Minh Long Nguyen\")"
   ]
  },
  {
   "cell_type": "markdown",
   "id": "4341386b",
   "metadata": {},
   "source": [
    "### Working with files in R"
   ]
  },
  {
   "cell_type": "code",
   "execution_count": 17,
   "id": "a034fc3f",
   "metadata": {
    "vscode": {
     "languageId": "r"
    }
   },
   "outputs": [
    {
     "data": {
      "text/html": [
       "'/Users/mymac/Library/CloudStorage/OneDrive-QueenslandUniversityofTechnology/MXB107/Code'"
      ],
      "text/latex": [
       "'/Users/mymac/Library/CloudStorage/OneDrive-QueenslandUniversityofTechnology/MXB107/Code'"
      ],
      "text/markdown": [
       "'/Users/mymac/Library/CloudStorage/OneDrive-QueenslandUniversityofTechnology/MXB107/Code'"
      ],
      "text/plain": [
       "[1] \"/Users/mymac/Library/CloudStorage/OneDrive-QueenslandUniversityofTechnology/MXB107/Code\""
      ]
     },
     "metadata": {},
     "output_type": "display_data"
    }
   ],
   "source": [
    "getwd() # Show the current working directories"
   ]
  },
  {
   "cell_type": "code",
   "execution_count": null,
   "id": "66e6e68c",
   "metadata": {
    "vscode": {
     "languageId": "r"
    }
   },
   "outputs": [],
   "source": [
    "dir.create(\"datasets\") #create a new directory name datasets"
   ]
  },
  {
   "cell_type": "code",
   "execution_count": null,
   "id": "3e9aa666",
   "metadata": {
    "vscode": {
     "languageId": "r"
    }
   },
   "outputs": [],
   "source": [
    "setwd() # change the working directory"
   ]
  },
  {
   "cell_type": "code",
   "execution_count": 20,
   "id": "e040b919",
   "metadata": {
    "vscode": {
     "languageId": "r"
    }
   },
   "outputs": [
    {
     "data": {
      "text/html": [
       "<style>\n",
       ".list-inline {list-style: none; margin:0; padding: 0}\n",
       ".list-inline>li {display: inline-block}\n",
       ".list-inline>li:not(:last-child)::after {content: \"\\00b7\"; padding: 0 .5ex}\n",
       "</style>\n",
       "<ol class=list-inline><li>'Week0.ipynb'</li><li>'datasets'</li></ol>\n"
      ],
      "text/latex": [
       "\\begin{enumerate*}\n",
       "\\item 'Week0.ipynb'\n",
       "\\item 'datasets'\n",
       "\\end{enumerate*}\n"
      ],
      "text/markdown": [
       "1. 'Week0.ipynb'\n",
       "2. 'datasets'\n",
       "\n",
       "\n"
      ],
      "text/plain": [
       "[1] \"Week0.ipynb\" \"datasets\"   "
      ]
     },
     "metadata": {},
     "output_type": "display_data"
    }
   ],
   "source": [
    "list.files() #List all the files and directories in our current working directory"
   ]
  },
  {
   "cell_type": "markdown",
   "id": "231b76ec",
   "metadata": {},
   "source": [
    "### Testing in R"
   ]
  },
  {
   "cell_type": "code",
   "execution_count": 26,
   "id": "50367cde",
   "metadata": {
    "vscode": {
     "languageId": "r"
    }
   },
   "outputs": [
    {
     "name": "stderr",
     "output_type": "stream",
     "text": [
      "Warning message:\n",
      "\"packages 'kurtosis', 'skewness' are not available for this version of R\n",
      "\n",
      "Versions of these packages for your version of R might be available elsewhere,\n",
      "see the ideas at\n",
      "https://cran.r-project.org/doc/manuals/r-patched/R-admin.html#Installing-packages\"\n"
     ]
    },
    {
     "name": "stdout",
     "output_type": "stream",
     "text": [
      "\n",
      "The downloaded binary packages are in\n",
      "\t/var/folders/qn/zzlz3xfn3sg_7htk7xqrfzfw0000gn/T//Rtmp9yTn0Y/downloaded_packages\n"
     ]
    }
   ],
   "source": [
    "install.packages(c(\"ggplot2\", \"tidyr\", \"dplyr\", \"stringr\", \"magrittr\",\"kurtosis\",\"skewness\"))"
   ]
  },
  {
   "cell_type": "code",
   "execution_count": 30,
   "id": "81f33304",
   "metadata": {
    "vscode": {
     "languageId": "r"
    }
   },
   "outputs": [
    {
     "name": "stdout",
     "output_type": "stream",
     "text": [
      "-- \u001b[1m\u001b[33mFailure\u001b[39m: Test if all packages have been loaded\u001b[22m ------------------------------\n",
      "all(...) is not TRUE\n",
      "\n",
      "`actual`:   \u001b[32mFALSE\u001b[39m\n",
      "`expected`: \u001b[32mTRUE\u001b[39m \n",
      "\n"
     ]
    },
    {
     "ename": "ERROR",
     "evalue": "\u001b[1m\u001b[33mError\u001b[39m:\u001b[22m\n\u001b[33m!\u001b[39m Test failed\n",
     "output_type": "error",
     "traceback": [
      "\u001b[1m\u001b[33mError\u001b[39m:\u001b[22m\n\u001b[33m!\u001b[39m Test failed\nTraceback:\n",
      "1. (function () \n . expr)()",
      "2. reporter$stop_if_needed()",
      "3. abort(\"Test failed\", call = NULL)",
      "4. signal_abort(cnd, .file)",
      "5. signalCondition(cnd)"
     ]
    }
   ],
   "source": [
    "\n",
    "if (!require(\"testthat\")) install.packages(\"testthat\"); library(\"testthat\")\n",
    "\n",
    "test_that(\"Test if all packages have been loaded\", {\n",
    "\n",
    "   expect_true(all(c(\"ggplot2\", \"tidyr\", \"dplyr\", \"stringr\", \"magrittr\") %in% loadedNamespaces()))\n",
    "\n",
    "})\n",
    "\n",
    "# test_that(\"Test if all utility functions have been loaded\", {\n",
    "#   expect_true(exists(\"skewness\"))\n",
    "#   expect_true(exists(\"kurtosis\"))\n",
    "# })"
   ]
  }
 ],
 "metadata": {
  "kernelspec": {
   "display_name": "R",
   "language": "R",
   "name": "ir"
  },
  "language_info": {
   "codemirror_mode": "r",
   "file_extension": ".r",
   "mimetype": "text/x-r-source",
   "name": "R",
   "pygments_lexer": "r",
   "version": "4.4.3"
  }
 },
 "nbformat": 4,
 "nbformat_minor": 5
}
